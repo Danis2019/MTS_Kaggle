{
 "cells": [
  {
   "cell_type": "markdown",
   "metadata": {},
   "source": [
    "# Библиотеки "
   ]
  },
  {
   "cell_type": "code",
   "execution_count": 1,
   "metadata": {},
   "outputs": [],
   "source": [
    "import pandas as pd\n",
    "import os\n",
    "import numpy as np"
   ]
  },
  {
   "cell_type": "markdown",
   "metadata": {},
   "source": [
    "# Файлы"
   ]
  },
  {
   "cell_type": "code",
   "execution_count": 2,
   "metadata": {},
   "outputs": [
    {
     "name": "stdout",
     "output_type": "stream",
     "text": [
      "Dataset:\n",
      "input\\interactions.csv\n",
      "input\\items.csv\n",
      "input\\items_preprocessed.csv\n",
      "input\\users.csv\n",
      "input\\users_preprocessed.csv\n",
      "input\\~$teractions_preprocessed.pickle\n",
      "input\\.ipynb_checkpoints\\interactions-checkpoint.csv\n",
      "input\\.ipynb_checkpoints\\items-checkpoint.csv\n",
      "input\\.ipynb_checkpoints\\items_preprocessed-checkpoint.csv\n",
      "input\\.ipynb_checkpoints\\users-checkpoint.csv\n",
      "input\\.ipynb_checkpoints\\users_preprocessed-checkpoint.csv\n"
     ]
    }
   ],
   "source": [
    "print('Dataset:')\n",
    "for dirname, _, filenames in os.walk('input'): # Os_walk генерирует именафайлов в дереве каталогов\n",
    "    for filename in filenames:\n",
    "        print(os.path.join(dirname, filename))"
   ]
  },
  {
   "cell_type": "markdown",
   "metadata": {},
   "source": [
    "# interactions"
   ]
  },
  {
   "cell_type": "code",
   "execution_count": 100,
   "metadata": {},
   "outputs": [],
   "source": [
    "data = pd.read_csv('input/interactions.csv')\n",
    "data\n",
    "data['start_date'] = pd.to_datetime(data['start_date'])"
   ]
  },
  {
   "cell_type": "markdown",
   "metadata": {},
   "source": [
    "### Проверим данные на дубликаты"
   ]
  },
  {
   "cell_type": "code",
   "execution_count": 101,
   "metadata": {},
   "outputs": [
    {
     "data": {
      "text/plain": [
       "158325"
      ]
     },
     "execution_count": 101,
     "metadata": {},
     "output_type": "execute_result"
    }
   ],
   "source": [
    "len(data['user_id'].unique())"
   ]
  },
  {
   "cell_type": "code",
   "execution_count": 102,
   "metadata": {},
   "outputs": [
    {
     "name": "stdout",
     "output_type": "stream",
     "text": [
      "<class 'pandas.core.frame.DataFrame'>\n",
      "RangeIndex: 1562617 entries, 0 to 1562616\n",
      "Data columns (total 5 columns):\n",
      " #   Column      Non-Null Count    Dtype         \n",
      "---  ------      --------------    -----         \n",
      " 0   user_id     1562617 non-null  int64         \n",
      " 1   item_id     1562617 non-null  int64         \n",
      " 2   progress    1562617 non-null  int64         \n",
      " 3   rating      323571 non-null   float64       \n",
      " 4   start_date  1562617 non-null  datetime64[ns]\n",
      "dtypes: datetime64[ns](1), float64(1), int64(3)\n",
      "memory usage: 59.6 MB\n"
     ]
    }
   ],
   "source": [
    "data.info()"
   ]
  },
  {
   "cell_type": "code",
   "execution_count": 103,
   "metadata": {},
   "outputs": [
    {
     "data": {
      "text/plain": [
       "224"
      ]
     },
     "execution_count": 103,
     "metadata": {},
     "output_type": "execute_result"
    }
   ],
   "source": [
    "duplicates = data.duplicated(subset=['user_id', 'item_id'], keep=False)\n",
    "duplicates.sum() # Целых 224 дубликата"
   ]
  },
  {
   "cell_type": "code",
   "execution_count": 104,
   "metadata": {},
   "outputs": [],
   "source": [
    "data_duplicates = data[duplicates].sort_values(by=['user_id', 'start_date'])\n",
    "data = data[~duplicates] # Знак ~ заменяет not"
   ]
  },
  {
   "cell_type": "code",
   "execution_count": 105,
   "metadata": {},
   "outputs": [
    {
     "data": {
      "text/html": [
       "<div>\n",
       "<style scoped>\n",
       "    .dataframe tbody tr th:only-of-type {\n",
       "        vertical-align: middle;\n",
       "    }\n",
       "\n",
       "    .dataframe tbody tr th {\n",
       "        vertical-align: top;\n",
       "    }\n",
       "\n",
       "    .dataframe thead th {\n",
       "        text-align: right;\n",
       "    }\n",
       "</style>\n",
       "<table border=\"1\" class=\"dataframe\">\n",
       "  <thead>\n",
       "    <tr style=\"text-align: right;\">\n",
       "      <th></th>\n",
       "      <th>user_id</th>\n",
       "      <th>item_id</th>\n",
       "      <th>progress</th>\n",
       "      <th>rating</th>\n",
       "      <th>start_date</th>\n",
       "    </tr>\n",
       "  </thead>\n",
       "  <tbody>\n",
       "    <tr>\n",
       "      <th>607888</th>\n",
       "      <td>703</td>\n",
       "      <td>44081</td>\n",
       "      <td>64</td>\n",
       "      <td>NaN</td>\n",
       "      <td>2018-10-14</td>\n",
       "    </tr>\n",
       "    <tr>\n",
       "      <th>1046199</th>\n",
       "      <td>703</td>\n",
       "      <td>44081</td>\n",
       "      <td>100</td>\n",
       "      <td>NaN</td>\n",
       "      <td>2019-05-05</td>\n",
       "    </tr>\n",
       "    <tr>\n",
       "      <th>351581</th>\n",
       "      <td>1757</td>\n",
       "      <td>279535</td>\n",
       "      <td>3</td>\n",
       "      <td>0.0</td>\n",
       "      <td>2018-06-16</td>\n",
       "    </tr>\n",
       "    <tr>\n",
       "      <th>1337090</th>\n",
       "      <td>1757</td>\n",
       "      <td>279535</td>\n",
       "      <td>1</td>\n",
       "      <td>NaN</td>\n",
       "      <td>2019-09-17</td>\n",
       "    </tr>\n",
       "    <tr>\n",
       "      <th>342919</th>\n",
       "      <td>1889</td>\n",
       "      <td>4292</td>\n",
       "      <td>40</td>\n",
       "      <td>0.0</td>\n",
       "      <td>2018-06-12</td>\n",
       "    </tr>\n",
       "    <tr>\n",
       "      <th>...</th>\n",
       "      <td>...</td>\n",
       "      <td>...</td>\n",
       "      <td>...</td>\n",
       "      <td>...</td>\n",
       "      <td>...</td>\n",
       "    </tr>\n",
       "    <tr>\n",
       "      <th>1286478</th>\n",
       "      <td>163719</td>\n",
       "      <td>27040</td>\n",
       "      <td>7</td>\n",
       "      <td>NaN</td>\n",
       "      <td>2019-08-24</td>\n",
       "    </tr>\n",
       "    <tr>\n",
       "      <th>467200</th>\n",
       "      <td>165754</td>\n",
       "      <td>303933</td>\n",
       "      <td>9</td>\n",
       "      <td>NaN</td>\n",
       "      <td>2018-08-09</td>\n",
       "    </tr>\n",
       "    <tr>\n",
       "      <th>1495675</th>\n",
       "      <td>165754</td>\n",
       "      <td>303933</td>\n",
       "      <td>42</td>\n",
       "      <td>0.0</td>\n",
       "      <td>2019-11-30</td>\n",
       "    </tr>\n",
       "    <tr>\n",
       "      <th>601924</th>\n",
       "      <td>165939</td>\n",
       "      <td>16044</td>\n",
       "      <td>98</td>\n",
       "      <td>NaN</td>\n",
       "      <td>2018-10-11</td>\n",
       "    </tr>\n",
       "    <tr>\n",
       "      <th>1374138</th>\n",
       "      <td>165939</td>\n",
       "      <td>16044</td>\n",
       "      <td>3</td>\n",
       "      <td>0.0</td>\n",
       "      <td>2019-10-04</td>\n",
       "    </tr>\n",
       "  </tbody>\n",
       "</table>\n",
       "<p>224 rows × 5 columns</p>\n",
       "</div>"
      ],
      "text/plain": [
       "         user_id  item_id  progress  rating start_date\n",
       "607888       703    44081        64     NaN 2018-10-14\n",
       "1046199      703    44081       100     NaN 2019-05-05\n",
       "351581      1757   279535         3     0.0 2018-06-16\n",
       "1337090     1757   279535         1     NaN 2019-09-17\n",
       "342919      1889     4292        40     0.0 2018-06-12\n",
       "...          ...      ...       ...     ...        ...\n",
       "1286478   163719    27040         7     NaN 2019-08-24\n",
       "467200    165754   303933         9     NaN 2018-08-09\n",
       "1495675   165754   303933        42     0.0 2019-11-30\n",
       "601924    165939    16044        98     NaN 2018-10-11\n",
       "1374138   165939    16044         3     0.0 2019-10-04\n",
       "\n",
       "[224 rows x 5 columns]"
      ]
     },
     "execution_count": 105,
     "metadata": {},
     "output_type": "execute_result"
    }
   ],
   "source": [
    "data_duplicates"
   ]
  },
  {
   "cell_type": "markdown",
   "metadata": {},
   "source": [
    "#### Емае, зачеееем, зачем нам sql, если тут есть даже агрегация по групам"
   ]
  },
  {
   "cell_type": "code",
   "execution_count": 106,
   "metadata": {},
   "outputs": [
    {
     "name": "stdout",
     "output_type": "stream",
     "text": [
      "<class 'pandas.core.frame.DataFrame'>\n",
      "MultiIndex: 112 entries, (703, 44081) to (165939, 16044)\n",
      "Data columns (total 3 columns):\n",
      " #   Column      Non-Null Count  Dtype         \n",
      "---  ------      --------------  -----         \n",
      " 0   progress    112 non-null    int64         \n",
      " 1   rating      51 non-null     float64       \n",
      " 2   start_date  112 non-null    datetime64[ns]\n",
      "dtypes: datetime64[ns](1), float64(1), int64(1)\n",
      "memory usage: 4.7 KB\n"
     ]
    }
   ],
   "source": [
    "data_duplicates = data_duplicates.groupby(['user_id', 'item_id']).agg({\n",
    "    'progress': 'max',\n",
    "    'rating': 'max',\n",
    "    'start_date': 'min'\n",
    "})\n",
    "data_duplicates.info()"
   ]
  },
  {
   "cell_type": "code",
   "execution_count": 107,
   "metadata": {},
   "outputs": [
    {
     "name": "stdout",
     "output_type": "stream",
     "text": [
      "<class 'pandas.core.frame.DataFrame'>\n",
      "RangeIndex: 1562505 entries, 0 to 1562504\n",
      "Data columns (total 5 columns):\n",
      " #   Column      Non-Null Count    Dtype         \n",
      "---  ------      --------------    -----         \n",
      " 0   user_id     1562505 non-null  int64         \n",
      " 1   item_id     1562505 non-null  int64         \n",
      " 2   progress    1562505 non-null  int64         \n",
      " 3   rating      323563 non-null   float64       \n",
      " 4   start_date  1562505 non-null  datetime64[ns]\n",
      "dtypes: datetime64[ns](1), float64(1), int64(3)\n",
      "memory usage: 59.6 MB\n"
     ]
    }
   ],
   "source": [
    "data = data.append(data_duplicates.reset_index(), ignore_index=True)\n",
    "data.info()"
   ]
  },
  {
   "cell_type": "markdown",
   "metadata": {},
   "source": [
    "### Наш столбец без дубликатов"
   ]
  },
  {
   "cell_type": "code",
   "execution_count": 108,
   "metadata": {},
   "outputs": [
    {
     "data": {
      "text/html": [
       "<div>\n",
       "<style scoped>\n",
       "    .dataframe tbody tr th:only-of-type {\n",
       "        vertical-align: middle;\n",
       "    }\n",
       "\n",
       "    .dataframe tbody tr th {\n",
       "        vertical-align: top;\n",
       "    }\n",
       "\n",
       "    .dataframe thead th {\n",
       "        text-align: right;\n",
       "    }\n",
       "</style>\n",
       "<table border=\"1\" class=\"dataframe\">\n",
       "  <thead>\n",
       "    <tr style=\"text-align: right;\">\n",
       "      <th></th>\n",
       "      <th>user_id</th>\n",
       "      <th>item_id</th>\n",
       "      <th>progress</th>\n",
       "      <th>rating</th>\n",
       "      <th>start_date</th>\n",
       "    </tr>\n",
       "  </thead>\n",
       "  <tbody>\n",
       "    <tr>\n",
       "      <th>0</th>\n",
       "      <td>90133</td>\n",
       "      <td>82910</td>\n",
       "      <td>100</td>\n",
       "      <td>NaN</td>\n",
       "      <td>2018-01-01</td>\n",
       "    </tr>\n",
       "    <tr>\n",
       "      <th>1</th>\n",
       "      <td>159130</td>\n",
       "      <td>331068</td>\n",
       "      <td>70</td>\n",
       "      <td>NaN</td>\n",
       "      <td>2018-01-01</td>\n",
       "    </tr>\n",
       "    <tr>\n",
       "      <th>2</th>\n",
       "      <td>80061</td>\n",
       "      <td>26540</td>\n",
       "      <td>69</td>\n",
       "      <td>4.0</td>\n",
       "      <td>2018-01-01</td>\n",
       "    </tr>\n",
       "    <tr>\n",
       "      <th>3</th>\n",
       "      <td>12811</td>\n",
       "      <td>301895</td>\n",
       "      <td>16</td>\n",
       "      <td>NaN</td>\n",
       "      <td>2018-01-01</td>\n",
       "    </tr>\n",
       "    <tr>\n",
       "      <th>4</th>\n",
       "      <td>5778</td>\n",
       "      <td>127872</td>\n",
       "      <td>100</td>\n",
       "      <td>NaN</td>\n",
       "      <td>2018-01-01</td>\n",
       "    </tr>\n",
       "    <tr>\n",
       "      <th>...</th>\n",
       "      <td>...</td>\n",
       "      <td>...</td>\n",
       "      <td>...</td>\n",
       "      <td>...</td>\n",
       "      <td>...</td>\n",
       "    </tr>\n",
       "    <tr>\n",
       "      <th>1562500</th>\n",
       "      <td>160045</td>\n",
       "      <td>291585</td>\n",
       "      <td>85</td>\n",
       "      <td>NaN</td>\n",
       "      <td>2018-02-25</td>\n",
       "    </tr>\n",
       "    <tr>\n",
       "      <th>1562501</th>\n",
       "      <td>161224</td>\n",
       "      <td>7819</td>\n",
       "      <td>58</td>\n",
       "      <td>NaN</td>\n",
       "      <td>2018-04-25</td>\n",
       "    </tr>\n",
       "    <tr>\n",
       "      <th>1562502</th>\n",
       "      <td>163719</td>\n",
       "      <td>27040</td>\n",
       "      <td>99</td>\n",
       "      <td>NaN</td>\n",
       "      <td>2018-05-11</td>\n",
       "    </tr>\n",
       "    <tr>\n",
       "      <th>1562503</th>\n",
       "      <td>165754</td>\n",
       "      <td>303933</td>\n",
       "      <td>42</td>\n",
       "      <td>0.0</td>\n",
       "      <td>2018-08-09</td>\n",
       "    </tr>\n",
       "    <tr>\n",
       "      <th>1562504</th>\n",
       "      <td>165939</td>\n",
       "      <td>16044</td>\n",
       "      <td>98</td>\n",
       "      <td>0.0</td>\n",
       "      <td>2018-10-11</td>\n",
       "    </tr>\n",
       "  </tbody>\n",
       "</table>\n",
       "<p>1562505 rows × 5 columns</p>\n",
       "</div>"
      ],
      "text/plain": [
       "         user_id  item_id  progress  rating start_date\n",
       "0          90133    82910       100     NaN 2018-01-01\n",
       "1         159130   331068        70     NaN 2018-01-01\n",
       "2          80061    26540        69     4.0 2018-01-01\n",
       "3          12811   301895        16     NaN 2018-01-01\n",
       "4           5778   127872       100     NaN 2018-01-01\n",
       "...          ...      ...       ...     ...        ...\n",
       "1562500   160045   291585        85     NaN 2018-02-25\n",
       "1562501   161224     7819        58     NaN 2018-04-25\n",
       "1562502   163719    27040        99     NaN 2018-05-11\n",
       "1562503   165754   303933        42     0.0 2018-08-09\n",
       "1562504   165939    16044        98     0.0 2018-10-11\n",
       "\n",
       "[1562505 rows x 5 columns]"
      ]
     },
     "execution_count": 108,
     "metadata": {},
     "output_type": "execute_result"
    }
   ],
   "source": [
    "data"
   ]
  },
  {
   "cell_type": "markdown",
   "metadata": {},
   "source": [
    "### Далее немного меняем типы данных, чтобы использовалось меньше памяти"
   ]
  },
  {
   "cell_type": "code",
   "execution_count": 109,
   "metadata": {},
   "outputs": [
    {
     "data": {
      "text/plain": [
       "user_id       158325\n",
       "item_id        63758\n",
       "progress         102\n",
       "rating             6\n",
       "start_date       730\n",
       "dtype: int64"
      ]
     },
     "execution_count": 109,
     "metadata": {},
     "output_type": "execute_result"
    }
   ],
   "source": [
    "data.nunique()\n"
   ]
  },
  {
   "cell_type": "code",
   "execution_count": 110,
   "metadata": {},
   "outputs": [
    {
     "data": {
      "text/html": [
       "<div>\n",
       "<style scoped>\n",
       "    .dataframe tbody tr th:only-of-type {\n",
       "        vertical-align: middle;\n",
       "    }\n",
       "\n",
       "    .dataframe tbody tr th {\n",
       "        vertical-align: top;\n",
       "    }\n",
       "\n",
       "    .dataframe thead th {\n",
       "        text-align: right;\n",
       "    }\n",
       "</style>\n",
       "<table border=\"1\" class=\"dataframe\">\n",
       "  <thead>\n",
       "    <tr style=\"text-align: right;\">\n",
       "      <th></th>\n",
       "      <th>user_id</th>\n",
       "      <th>item_id</th>\n",
       "      <th>progress</th>\n",
       "      <th>rating</th>\n",
       "      <th>start_date</th>\n",
       "    </tr>\n",
       "  </thead>\n",
       "  <tbody>\n",
       "    <tr>\n",
       "      <th>0</th>\n",
       "      <td>90133</td>\n",
       "      <td>82910</td>\n",
       "      <td>100</td>\n",
       "      <td>NaN</td>\n",
       "      <td>2018-01-01</td>\n",
       "    </tr>\n",
       "    <tr>\n",
       "      <th>1</th>\n",
       "      <td>159130</td>\n",
       "      <td>331068</td>\n",
       "      <td>70</td>\n",
       "      <td>NaN</td>\n",
       "      <td>2018-01-01</td>\n",
       "    </tr>\n",
       "    <tr>\n",
       "      <th>2</th>\n",
       "      <td>80061</td>\n",
       "      <td>26540</td>\n",
       "      <td>69</td>\n",
       "      <td>4.0</td>\n",
       "      <td>2018-01-01</td>\n",
       "    </tr>\n",
       "    <tr>\n",
       "      <th>3</th>\n",
       "      <td>12811</td>\n",
       "      <td>301895</td>\n",
       "      <td>16</td>\n",
       "      <td>NaN</td>\n",
       "      <td>2018-01-01</td>\n",
       "    </tr>\n",
       "    <tr>\n",
       "      <th>4</th>\n",
       "      <td>5778</td>\n",
       "      <td>127872</td>\n",
       "      <td>100</td>\n",
       "      <td>NaN</td>\n",
       "      <td>2018-01-01</td>\n",
       "    </tr>\n",
       "    <tr>\n",
       "      <th>...</th>\n",
       "      <td>...</td>\n",
       "      <td>...</td>\n",
       "      <td>...</td>\n",
       "      <td>...</td>\n",
       "      <td>...</td>\n",
       "    </tr>\n",
       "    <tr>\n",
       "      <th>1562500</th>\n",
       "      <td>160045</td>\n",
       "      <td>291585</td>\n",
       "      <td>85</td>\n",
       "      <td>NaN</td>\n",
       "      <td>2018-02-25</td>\n",
       "    </tr>\n",
       "    <tr>\n",
       "      <th>1562501</th>\n",
       "      <td>161224</td>\n",
       "      <td>7819</td>\n",
       "      <td>58</td>\n",
       "      <td>NaN</td>\n",
       "      <td>2018-04-25</td>\n",
       "    </tr>\n",
       "    <tr>\n",
       "      <th>1562502</th>\n",
       "      <td>163719</td>\n",
       "      <td>27040</td>\n",
       "      <td>99</td>\n",
       "      <td>NaN</td>\n",
       "      <td>2018-05-11</td>\n",
       "    </tr>\n",
       "    <tr>\n",
       "      <th>1562503</th>\n",
       "      <td>165754</td>\n",
       "      <td>303933</td>\n",
       "      <td>42</td>\n",
       "      <td>0.0</td>\n",
       "      <td>2018-08-09</td>\n",
       "    </tr>\n",
       "    <tr>\n",
       "      <th>1562504</th>\n",
       "      <td>165939</td>\n",
       "      <td>16044</td>\n",
       "      <td>98</td>\n",
       "      <td>0.0</td>\n",
       "      <td>2018-10-11</td>\n",
       "    </tr>\n",
       "  </tbody>\n",
       "</table>\n",
       "<p>1562505 rows × 5 columns</p>\n",
       "</div>"
      ],
      "text/plain": [
       "         user_id  item_id  progress  rating start_date\n",
       "0          90133    82910       100     NaN 2018-01-01\n",
       "1         159130   331068        70     NaN 2018-01-01\n",
       "2          80061    26540        69     4.0 2018-01-01\n",
       "3          12811   301895        16     NaN 2018-01-01\n",
       "4           5778   127872       100     NaN 2018-01-01\n",
       "...          ...      ...       ...     ...        ...\n",
       "1562500   160045   291585        85     NaN 2018-02-25\n",
       "1562501   161224     7819        58     NaN 2018-04-25\n",
       "1562502   163719    27040        99     NaN 2018-05-11\n",
       "1562503   165754   303933        42     0.0 2018-08-09\n",
       "1562504   165939    16044        98     0.0 2018-10-11\n",
       "\n",
       "[1562505 rows x 5 columns]"
      ]
     },
     "execution_count": 110,
     "metadata": {},
     "output_type": "execute_result"
    }
   ],
   "source": [
    "data['progress'] = data['progress'].astype(np.int8)\n",
    "data['rating'] = data['rating'].astype(pd.SparseDtype(np.float32, np.nan))\n",
    "data"
   ]
  },
  {
   "cell_type": "code",
   "execution_count": 111,
   "metadata": {},
   "outputs": [],
   "source": [
    "# Записываем новую таблицу в файл, не знаю почему, .pickle жаловался на utf-8, поэтому сохраню в csv\n",
    "\n",
    "data.to_csv('input/interactions_preprocessed.csv', index=False)"
   ]
  },
  {
   "cell_type": "markdown",
   "metadata": {},
   "source": [
    "## Users"
   ]
  },
  {
   "cell_type": "code",
   "execution_count": 61,
   "metadata": {},
   "outputs": [
    {
     "data": {
      "text/html": [
       "<div>\n",
       "<style scoped>\n",
       "    .dataframe tbody tr th:only-of-type {\n",
       "        vertical-align: middle;\n",
       "    }\n",
       "\n",
       "    .dataframe tbody tr th {\n",
       "        vertical-align: top;\n",
       "    }\n",
       "\n",
       "    .dataframe thead th {\n",
       "        text-align: right;\n",
       "    }\n",
       "</style>\n",
       "<table border=\"1\" class=\"dataframe\">\n",
       "  <thead>\n",
       "    <tr style=\"text-align: right;\">\n",
       "      <th></th>\n",
       "      <th>user_id</th>\n",
       "      <th>age</th>\n",
       "      <th>sex</th>\n",
       "    </tr>\n",
       "  </thead>\n",
       "  <tbody>\n",
       "    <tr>\n",
       "      <th>0</th>\n",
       "      <td>0</td>\n",
       "      <td>45_54</td>\n",
       "      <td>1.0</td>\n",
       "    </tr>\n",
       "    <tr>\n",
       "      <th>1</th>\n",
       "      <td>1</td>\n",
       "      <td>25_34</td>\n",
       "      <td>0.0</td>\n",
       "    </tr>\n",
       "    <tr>\n",
       "      <th>2</th>\n",
       "      <td>2</td>\n",
       "      <td>45_54</td>\n",
       "      <td>0.0</td>\n",
       "    </tr>\n",
       "    <tr>\n",
       "      <th>3</th>\n",
       "      <td>3</td>\n",
       "      <td>65_inf</td>\n",
       "      <td>0.0</td>\n",
       "    </tr>\n",
       "    <tr>\n",
       "      <th>4</th>\n",
       "      <td>4</td>\n",
       "      <td>18_24</td>\n",
       "      <td>0.0</td>\n",
       "    </tr>\n",
       "    <tr>\n",
       "      <th>...</th>\n",
       "      <td>...</td>\n",
       "      <td>...</td>\n",
       "      <td>...</td>\n",
       "    </tr>\n",
       "    <tr>\n",
       "      <th>137249</th>\n",
       "      <td>166060</td>\n",
       "      <td>25_34</td>\n",
       "      <td>0.0</td>\n",
       "    </tr>\n",
       "    <tr>\n",
       "      <th>137250</th>\n",
       "      <td>166061</td>\n",
       "      <td>35_44</td>\n",
       "      <td>1.0</td>\n",
       "    </tr>\n",
       "    <tr>\n",
       "      <th>137251</th>\n",
       "      <td>166062</td>\n",
       "      <td>45_54</td>\n",
       "      <td>1.0</td>\n",
       "    </tr>\n",
       "    <tr>\n",
       "      <th>137252</th>\n",
       "      <td>166065</td>\n",
       "      <td>25_34</td>\n",
       "      <td>0.0</td>\n",
       "    </tr>\n",
       "    <tr>\n",
       "      <th>137253</th>\n",
       "      <td>166066</td>\n",
       "      <td>45_54</td>\n",
       "      <td>0.0</td>\n",
       "    </tr>\n",
       "  </tbody>\n",
       "</table>\n",
       "<p>137254 rows × 3 columns</p>\n",
       "</div>"
      ],
      "text/plain": [
       "        user_id     age  sex\n",
       "0             0   45_54  1.0\n",
       "1             1   25_34  0.0\n",
       "2             2   45_54  0.0\n",
       "3             3  65_inf  0.0\n",
       "4             4   18_24  0.0\n",
       "...         ...     ...  ...\n",
       "137249   166060   25_34  0.0\n",
       "137250   166061   35_44  1.0\n",
       "137251   166062   45_54  1.0\n",
       "137252   166065   25_34  0.0\n",
       "137253   166066   45_54  0.0\n",
       "\n",
       "[137254 rows x 3 columns]"
      ]
     },
     "execution_count": 61,
     "metadata": {},
     "output_type": "execute_result"
    }
   ],
   "source": [
    "data2 = pd.read_csv('input/users.csv')\n",
    "data2"
   ]
  },
  {
   "cell_type": "code",
   "execution_count": 16,
   "metadata": {},
   "outputs": [
    {
     "data": {
      "text/plain": [
       "user_id    137254\n",
       "age             6\n",
       "sex             2\n",
       "dtype: int64"
      ]
     },
     "execution_count": 16,
     "metadata": {},
     "output_type": "execute_result"
    }
   ],
   "source": [
    "data2.nunique()"
   ]
  },
  {
   "cell_type": "markdown",
   "metadata": {},
   "source": [
    "### Меняем типы данных"
   ]
  },
  {
   "cell_type": "code",
   "execution_count": 48,
   "metadata": {},
   "outputs": [
    {
     "data": {
      "text/html": [
       "<div>\n",
       "<style scoped>\n",
       "    .dataframe tbody tr th:only-of-type {\n",
       "        vertical-align: middle;\n",
       "    }\n",
       "\n",
       "    .dataframe tbody tr th {\n",
       "        vertical-align: top;\n",
       "    }\n",
       "\n",
       "    .dataframe thead th {\n",
       "        text-align: right;\n",
       "    }\n",
       "</style>\n",
       "<table border=\"1\" class=\"dataframe\">\n",
       "  <thead>\n",
       "    <tr style=\"text-align: right;\">\n",
       "      <th></th>\n",
       "      <th>user_id</th>\n",
       "      <th>age</th>\n",
       "      <th>sex</th>\n",
       "    </tr>\n",
       "  </thead>\n",
       "  <tbody>\n",
       "    <tr>\n",
       "      <th>0</th>\n",
       "      <td>0</td>\n",
       "      <td>45_54</td>\n",
       "      <td>1.0</td>\n",
       "    </tr>\n",
       "    <tr>\n",
       "      <th>1</th>\n",
       "      <td>1</td>\n",
       "      <td>25_34</td>\n",
       "      <td>0.0</td>\n",
       "    </tr>\n",
       "    <tr>\n",
       "      <th>2</th>\n",
       "      <td>2</td>\n",
       "      <td>45_54</td>\n",
       "      <td>0.0</td>\n",
       "    </tr>\n",
       "    <tr>\n",
       "      <th>3</th>\n",
       "      <td>3</td>\n",
       "      <td>65_inf</td>\n",
       "      <td>0.0</td>\n",
       "    </tr>\n",
       "    <tr>\n",
       "      <th>4</th>\n",
       "      <td>4</td>\n",
       "      <td>18_24</td>\n",
       "      <td>0.0</td>\n",
       "    </tr>\n",
       "    <tr>\n",
       "      <th>...</th>\n",
       "      <td>...</td>\n",
       "      <td>...</td>\n",
       "      <td>...</td>\n",
       "    </tr>\n",
       "    <tr>\n",
       "      <th>137249</th>\n",
       "      <td>166060</td>\n",
       "      <td>25_34</td>\n",
       "      <td>0.0</td>\n",
       "    </tr>\n",
       "    <tr>\n",
       "      <th>137250</th>\n",
       "      <td>166061</td>\n",
       "      <td>35_44</td>\n",
       "      <td>1.0</td>\n",
       "    </tr>\n",
       "    <tr>\n",
       "      <th>137251</th>\n",
       "      <td>166062</td>\n",
       "      <td>45_54</td>\n",
       "      <td>1.0</td>\n",
       "    </tr>\n",
       "    <tr>\n",
       "      <th>137252</th>\n",
       "      <td>166065</td>\n",
       "      <td>25_34</td>\n",
       "      <td>0.0</td>\n",
       "    </tr>\n",
       "    <tr>\n",
       "      <th>137253</th>\n",
       "      <td>166066</td>\n",
       "      <td>45_54</td>\n",
       "      <td>0.0</td>\n",
       "    </tr>\n",
       "  </tbody>\n",
       "</table>\n",
       "<p>137254 rows × 3 columns</p>\n",
       "</div>"
      ],
      "text/plain": [
       "        user_id     age  sex\n",
       "0             0   45_54  1.0\n",
       "1             1   25_34  0.0\n",
       "2             2   45_54  0.0\n",
       "3             3  65_inf  0.0\n",
       "4             4   18_24  0.0\n",
       "...         ...     ...  ...\n",
       "137249   166060   25_34  0.0\n",
       "137250   166061   35_44  1.0\n",
       "137251   166062   45_54  1.0\n",
       "137252   166065   25_34  0.0\n",
       "137253   166066   45_54  0.0\n",
       "\n",
       "[137254 rows x 3 columns]"
      ]
     },
     "execution_count": 48,
     "metadata": {},
     "output_type": "execute_result"
    }
   ],
   "source": [
    "data2['age'] = data2['age'].astype('category')\n",
    "data2['sex'] = data2['sex'].astype(pd.SparseDtype(np.float32, np.nan))\n",
    "data2"
   ]
  },
  {
   "cell_type": "code",
   "execution_count": 18,
   "metadata": {},
   "outputs": [
    {
     "name": "stdout",
     "output_type": "stream",
     "text": [
      "Кол-во пользователей - 164771\n",
      "Кол-во пользователей c взаимодействиями и фичами - 130808 (79.39%)\n",
      "Кол-во пользователей только c взаимодействиями - 27517 (16.70%)\n",
      "Кол-во пользователей только c фичами - 6446 (3.91%)\n"
     ]
    }
   ],
   "source": [
    "interaction = data['user_id'].unique()\n",
    "\n",
    "# np.intersect1d находит элементы которые принадлежат обоим массивам\n",
    "\n",
    "common = len(np.intersect1d(interaction, data2['user_id']))\n",
    "\n",
    "# np.setdiff1d находит элементы, которые есть в первом массиве, но нет во втором\n",
    "\n",
    "users_only_in_interaction = len(np.setdiff1d(interaction, data2['user_id']))\n",
    "users_only_features = len(np.setdiff1d(data2['user_id'], interaction))\n",
    "\n",
    "total = common + users_only_in_interaction + users_only_features\n",
    "\n",
    "print(f'Кол-во пользователей - {total}')\n",
    "print(f'Кол-во пользователей c взаимодействиями и фичами - {common} ({common / total * 100:.2f}%)')\n",
    "print(f'Кол-во пользователей только c взаимодействиями - {users_only_in_interaction} ({users_only_in_interaction / total * 100:.2f}%)')\n",
    "print(f'Кол-во пользователей только c фичами - {users_only_features} ({users_only_features / total * 100:.2f}%)')\n"
   ]
  },
  {
   "cell_type": "code",
   "execution_count": 19,
   "metadata": {},
   "outputs": [],
   "source": [
    "data2.to_csv('input/users_preprocessed.csv', index=False)"
   ]
  },
  {
   "cell_type": "markdown",
   "metadata": {},
   "source": [
    "# Items"
   ]
  },
  {
   "cell_type": "code",
   "execution_count": 20,
   "metadata": {},
   "outputs": [
    {
     "data": {
      "text/html": [
       "<div>\n",
       "<style scoped>\n",
       "    .dataframe tbody tr th:only-of-type {\n",
       "        vertical-align: middle;\n",
       "    }\n",
       "\n",
       "    .dataframe tbody tr th {\n",
       "        vertical-align: top;\n",
       "    }\n",
       "\n",
       "    .dataframe thead th {\n",
       "        text-align: right;\n",
       "    }\n",
       "</style>\n",
       "<table border=\"1\" class=\"dataframe\">\n",
       "  <thead>\n",
       "    <tr style=\"text-align: right;\">\n",
       "      <th></th>\n",
       "      <th>id</th>\n",
       "      <th>title</th>\n",
       "      <th>genres</th>\n",
       "      <th>authors</th>\n",
       "      <th>year</th>\n",
       "    </tr>\n",
       "  </thead>\n",
       "  <tbody>\n",
       "    <tr>\n",
       "      <th>0</th>\n",
       "      <td>248031</td>\n",
       "      <td>Ворон-челобитчик</td>\n",
       "      <td>Зарубежные детские книги,Сказки,Зарубежная кла...</td>\n",
       "      <td>Михаил Салтыков-Щедрин</td>\n",
       "      <td>1886</td>\n",
       "    </tr>\n",
       "    <tr>\n",
       "      <th>1</th>\n",
       "      <td>256084</td>\n",
       "      <td>Скрипка Ротшильда</td>\n",
       "      <td>Классическая проза,Литература 19 века,Русская ...</td>\n",
       "      <td>Антон Чехов</td>\n",
       "      <td>1894</td>\n",
       "    </tr>\n",
       "    <tr>\n",
       "      <th>2</th>\n",
       "      <td>134166</td>\n",
       "      <td>Испорченные дети</td>\n",
       "      <td>Зарубежная классика,Классическая проза,Литерат...</td>\n",
       "      <td>Михаил Салтыков-Щедрин</td>\n",
       "      <td>1869</td>\n",
       "    </tr>\n",
       "    <tr>\n",
       "      <th>3</th>\n",
       "      <td>281311</td>\n",
       "      <td>Странный человек</td>\n",
       "      <td>Пьесы и драматургия,Литература 19 века</td>\n",
       "      <td>Михаил Лермонтов</td>\n",
       "      <td>1831</td>\n",
       "    </tr>\n",
       "    <tr>\n",
       "      <th>4</th>\n",
       "      <td>213473</td>\n",
       "      <td>Господа ташкентцы</td>\n",
       "      <td>Зарубежная классика,Классическая проза,Литерат...</td>\n",
       "      <td>Михаил Салтыков-Щедрин</td>\n",
       "      <td>1873</td>\n",
       "    </tr>\n",
       "    <tr>\n",
       "      <th>...</th>\n",
       "      <td>...</td>\n",
       "      <td>...</td>\n",
       "      <td>...</td>\n",
       "      <td>...</td>\n",
       "      <td>...</td>\n",
       "    </tr>\n",
       "    <tr>\n",
       "      <th>63753</th>\n",
       "      <td>143203</td>\n",
       "      <td>Игрушка палача</td>\n",
       "      <td>Эротические романы,Любовно-фантастические рома...</td>\n",
       "      <td>Эрика Адамс</td>\n",
       "      <td>2019</td>\n",
       "    </tr>\n",
       "    <tr>\n",
       "      <th>63754</th>\n",
       "      <td>27324</td>\n",
       "      <td>Любовь под развесистой клюквой</td>\n",
       "      <td>Современные любовные романы</td>\n",
       "      <td>Маргарита Южина</td>\n",
       "      <td>NaN</td>\n",
       "    </tr>\n",
       "    <tr>\n",
       "      <th>63755</th>\n",
       "      <td>359711</td>\n",
       "      <td>Куда уходят грешницы, или Гробница Наполеона</td>\n",
       "      <td>Современные детективы</td>\n",
       "      <td>Наталья Андреева</td>\n",
       "      <td>NaN</td>\n",
       "    </tr>\n",
       "    <tr>\n",
       "      <th>63756</th>\n",
       "      <td>283955</td>\n",
       "      <td>Сварить медведя</td>\n",
       "      <td>Зарубежные детективы,Исторические детективы,За...</td>\n",
       "      <td>Микаель Ниеми</td>\n",
       "      <td>2017</td>\n",
       "    </tr>\n",
       "    <tr>\n",
       "      <th>63757</th>\n",
       "      <td>256666</td>\n",
       "      <td>Подарок моей мечты</td>\n",
       "      <td>Любовное фэнтези</td>\n",
       "      <td>Елизавета Соболянская</td>\n",
       "      <td>2019</td>\n",
       "    </tr>\n",
       "  </tbody>\n",
       "</table>\n",
       "<p>63758 rows × 5 columns</p>\n",
       "</div>"
      ],
      "text/plain": [
       "           id                                         title  \\\n",
       "0      248031                              Ворон-челобитчик   \n",
       "1      256084                             Скрипка Ротшильда   \n",
       "2      134166                              Испорченные дети   \n",
       "3      281311                              Странный человек   \n",
       "4      213473                             Господа ташкентцы   \n",
       "...       ...                                           ...   \n",
       "63753  143203                                Игрушка палача   \n",
       "63754   27324                Любовь под развесистой клюквой   \n",
       "63755  359711  Куда уходят грешницы, или Гробница Наполеона   \n",
       "63756  283955                               Сварить медведя   \n",
       "63757  256666                            Подарок моей мечты   \n",
       "\n",
       "                                                  genres  \\\n",
       "0      Зарубежные детские книги,Сказки,Зарубежная кла...   \n",
       "1      Классическая проза,Литература 19 века,Русская ...   \n",
       "2      Зарубежная классика,Классическая проза,Литерат...   \n",
       "3                 Пьесы и драматургия,Литература 19 века   \n",
       "4      Зарубежная классика,Классическая проза,Литерат...   \n",
       "...                                                  ...   \n",
       "63753  Эротические романы,Любовно-фантастические рома...   \n",
       "63754                        Современные любовные романы   \n",
       "63755                              Современные детективы   \n",
       "63756  Зарубежные детективы,Исторические детективы,За...   \n",
       "63757                                   Любовное фэнтези   \n",
       "\n",
       "                      authors  year  \n",
       "0      Михаил Салтыков-Щедрин  1886  \n",
       "1                 Антон Чехов  1894  \n",
       "2      Михаил Салтыков-Щедрин  1869  \n",
       "3            Михаил Лермонтов  1831  \n",
       "4      Михаил Салтыков-Щедрин  1873  \n",
       "...                       ...   ...  \n",
       "63753             Эрика Адамс  2019  \n",
       "63754         Маргарита Южина   NaN  \n",
       "63755        Наталья Андреева   NaN  \n",
       "63756           Микаель Ниеми  2017  \n",
       "63757   Елизавета Соболянская  2019  \n",
       "\n",
       "[63758 rows x 5 columns]"
      ]
     },
     "execution_count": 20,
     "metadata": {},
     "output_type": "execute_result"
    }
   ],
   "source": [
    "data_items = pd.read_csv('input/items.csv')\n",
    "data_items"
   ]
  },
  {
   "cell_type": "code",
   "execution_count": 36,
   "metadata": {},
   "outputs": [],
   "source": [
    "new_row = {'id': 10309, 'title': None, 'genres': None, 'authors': None, 'year': None}\n",
    "data_items.append(new_row,ignore_index=True)"
   ]
  },
  {
   "cell_type": "code",
   "execution_count": 38,
   "metadata": {},
   "outputs": [],
   "source": [
    "# Ф-я считает количество занимаемой памяти\n",
    "def num_bytes_format(num_bytes, float_prec=4):\n",
    "    units = ['bytes', 'Kb', 'Mb', 'Gb', 'Tb', 'Pb', 'Eb']\n",
    "    for unit in units[:-1]:\n",
    "        if abs(num_bytes) < 1000:\n",
    "            return f'{num_bytes:.{float_prec}f} {unit}'\n",
    "        num_bytes /= 1000\n",
    "    return f'{num_bytes:.4f} {units[-1]}'"
   ]
  },
  {
   "cell_type": "code",
   "execution_count": 41,
   "metadata": {},
   "outputs": [
    {
     "data": {
      "text/plain": [
       "'33.5359 Mb'"
      ]
     },
     "execution_count": 41,
     "metadata": {},
     "output_type": "execute_result"
    }
   ],
   "source": [
    "num_bytes = data_items.memory_usage(deep=True).sum()\n",
    "num_bytes_format(num_bytes)"
   ]
  },
  {
   "cell_type": "code",
   "execution_count": 42,
   "metadata": {},
   "outputs": [
    {
     "data": {
      "text/plain": [
       "id         63759\n",
       "title      58093\n",
       "genres     11091\n",
       "authors    17024\n",
       "year        1074\n",
       "dtype: int64"
      ]
     },
     "execution_count": 42,
     "metadata": {},
     "output_type": "execute_result"
    }
   ],
   "source": [
    "data_items.nunique()"
   ]
  },
  {
   "cell_type": "markdown",
   "metadata": {},
   "source": [
    "### Переводим в категориальный тип"
   ]
  },
  {
   "cell_type": "code",
   "execution_count": 43,
   "metadata": {},
   "outputs": [],
   "source": [
    "for col in ['genres', 'authors', 'year']:\n",
    "    data_items[col] = data_items_new[col].astype('category')"
   ]
  },
  {
   "cell_type": "code",
   "execution_count": 44,
   "metadata": {},
   "outputs": [
    {
     "name": "stdout",
     "output_type": "stream",
     "text": [
      "<class 'pandas.core.frame.DataFrame'>\n",
      "RangeIndex: 63759 entries, 0 to 63758\n",
      "Data columns (total 5 columns):\n",
      " #   Column   Non-Null Count  Dtype   \n",
      "---  ------   --------------  -----   \n",
      " 0   id       63759 non-null  float64 \n",
      " 1   title    63758 non-null  object  \n",
      " 2   genres   63753 non-null  category\n",
      " 3   authors  56700 non-null  category\n",
      " 4   year     49508 non-null  category\n",
      "dtypes: category(3), float64(1), object(1)\n",
      "memory usage: 2.5+ MB\n"
     ]
    }
   ],
   "source": [
    "data_items.info(memory_usage='full')"
   ]
  },
  {
   "cell_type": "code",
   "execution_count": 45,
   "metadata": {},
   "outputs": [
    {
     "data": {
      "text/plain": [
       "'18.6995 Mb'"
      ]
     },
     "execution_count": 45,
     "metadata": {},
     "output_type": "execute_result"
    }
   ],
   "source": [
    "num_bytes = data_items.memory_usage(deep=True).sum()\n",
    "num_bytes_format(num_bytes) # Занимаемая память уменьшилаь почти в 2 раза"
   ]
  },
  {
   "cell_type": "code",
   "execution_count": 46,
   "metadata": {},
   "outputs": [
    {
     "name": "stdout",
     "output_type": "stream",
     "text": [
      "Кол-во книг - 63759\n",
      "Кол-во книг c взаимодействиями и фичами - 63758 (100.00%)\n",
      "Кол-во книг только c взаимодействиями - 0 (0.00%)\n",
      "Кол-во книг только c фичами - 1 (0.00%)\n"
     ]
    }
   ],
   "source": [
    "interaction_items = data['item_id'].unique()\n",
    "\n",
    "common_items = len(np.intersect1d(interaction_items, data_items['id']))\n",
    "items_only_in_interaction = len(np.setdiff1d(interaction_items, data_items['id']))\n",
    "items_only_features = len(np.setdiff1d(data_items['id'], interaction_items))\n",
    "total_items = common_items + items_only_in_interaction + items_only_features\n",
    "print(f'Кол-во книг - {total_items}')\n",
    "print(f'Кол-во книг c взаимодействиями и фичами - {common_items} ({common_items / total_items * 100:.2f}%)')\n",
    "print(f'Кол-во книг только c взаимодействиями - {items_only_in_interaction} ({items_only_in_interaction / total_items * 100:.2f}%)')\n",
    "print(f'Кол-во книг только c фичами - {items_only_features} ({items_only_features / total_items * 100:.2f}%)')"
   ]
  },
  {
   "cell_type": "code",
   "execution_count": 47,
   "metadata": {},
   "outputs": [],
   "source": [
    "data_items_new.to_csv('input/items_preprocessed.csv', index=False)"
   ]
  },
  {
   "cell_type": "code",
   "execution_count": null,
   "metadata": {},
   "outputs": [],
   "source": []
  }
 ],
 "metadata": {
  "kernelspec": {
   "display_name": "Python 3",
   "language": "python",
   "name": "python3"
  },
  "language_info": {
   "codemirror_mode": {
    "name": "ipython",
    "version": 3
   },
   "file_extension": ".py",
   "mimetype": "text/x-python",
   "name": "python",
   "nbconvert_exporter": "python",
   "pygments_lexer": "ipython3",
   "version": "3.8.3"
  }
 },
 "nbformat": 4,
 "nbformat_minor": 4
}
