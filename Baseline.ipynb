{
 "cells": [
  {
   "cell_type": "markdown",
   "metadata": {},
   "source": [
    "# Библиотеки"
   ]
  },
  {
   "cell_type": "code",
   "execution_count": 2,
   "metadata": {},
   "outputs": [],
   "source": [
    "import os\n",
    "import numpy as np \n",
    "import pandas as pd \n",
    "import scipy.sparse as sp\n",
    "from itertools import islice, cycle\n",
    "from more_itertools import pairwise\n",
    "from tqdm.auto import tqdm\n",
    "from datetime import datetime"
   ]
  },
  {
   "cell_type": "markdown",
   "metadata": {},
   "source": [
    "### class TimeRangeSplit()"
   ]
  },
  {
   "cell_type": "code",
   "execution_count": 3,
   "metadata": {
    "jupyter": {
     "source_hidden": true
    }
   },
   "outputs": [],
   "source": [
    "class TimeRangeSplit():\n",
    "    \"\"\"\n",
    "        https://pandas.pydata.org/pandas-docs/stable/reference/api/pandas.date_range.html\n",
    "    \"\"\"\n",
    "    def __init__(self, \n",
    "                 start_date, \n",
    "                 end_date=None, \n",
    "                 freq='D', \n",
    "                 periods=None, \n",
    "                 tz=None, \n",
    "                 normalize=False, \n",
    "                 closed=None, \n",
    "                 train_min_date=None,\n",
    "                 filter_cold_users=True, \n",
    "                 filter_cold_items=True, \n",
    "                 filter_already_seen=True):\n",
    "        \n",
    "        self.start_date = start_date\n",
    "        if end_date is None and periods is None:\n",
    "            raise ValueError(\"Either 'end_date' or 'periods' must be non-zero, not both at the same time.\")\n",
    "\n",
    "        self.end_date = end_date\n",
    "        self.freq = freq\n",
    "        self.periods = periods\n",
    "        self.tz = tz\n",
    "        self.normalize = normalize\n",
    "        self.closed = closed\n",
    "        self.train_min_date = pd.to_datetime(train_min_date, errors='raise')\n",
    "        self.filter_cold_users = filter_cold_users\n",
    "        self.filter_cold_items = filter_cold_items\n",
    "        self.filter_already_seen = filter_already_seen\n",
    "\n",
    "        self.date_range = pd.date_range(\n",
    "            start=start_date, \n",
    "            end=end_date, \n",
    "            freq=freq, \n",
    "            periods=periods, \n",
    "            tz=tz, \n",
    "            normalize=normalize, \n",
    "            closed=closed)\n",
    "\n",
    "        self.max_n_splits = max(0, len(self.date_range) - 1)\n",
    "        if self.max_n_splits == 0:\n",
    "            raise ValueError(\"Provided parametrs set an empty date range.\") \n",
    "\n",
    "    def split(self, \n",
    "              df, \n",
    "              user_column='user_id',\n",
    "              item_column='item_id',\n",
    "              datetime_column='date',\n",
    "              fold_stats=False):\n",
    "        df_datetime = df[datetime_column]\n",
    "        if self.train_min_date is not None:\n",
    "            train_min_mask = df_datetime >= self.train_min_date\n",
    "        else:\n",
    "            train_min_mask = df_datetime.notnull()\n",
    "\n",
    "        date_range = self.date_range[(self.date_range >= df_datetime.min()) & \n",
    "                                     (self.date_range <= df_datetime.max())]\n",
    "\n",
    "        for start, end in pairwise(date_range):\n",
    "            fold_info = {\n",
    "                'Start date': start,\n",
    "                'End date': end\n",
    "            }\n",
    "            train_mask = train_min_mask & (df_datetime < start)\n",
    "            train_idx = df.index[train_mask]\n",
    "            if fold_stats:\n",
    "                fold_info['Train'] = len(train_idx)\n",
    "\n",
    "            test_mask = (df_datetime >= start) & (df_datetime < end)\n",
    "            test_idx = df.index[test_mask]\n",
    "            \n",
    "            if self.filter_cold_users:\n",
    "                new = np.setdiff1d(\n",
    "                    df.loc[test_idx, user_column].unique(), \n",
    "                    df.loc[train_idx, user_column].unique())\n",
    "                new_idx = df.index[test_mask & df[user_column].isin(new)]\n",
    "                test_idx = np.setdiff1d(test_idx, new_idx)\n",
    "                test_mask = df.index.isin(test_idx)\n",
    "                if fold_stats:\n",
    "                    fold_info['New users'] = len(new)\n",
    "                    fold_info['New users interactions'] = len(new_idx)\n",
    "\n",
    "            if self.filter_cold_items:\n",
    "                new = np.setdiff1d(\n",
    "                    df.loc[test_idx, item_column].unique(), \n",
    "                    df.loc[train_idx, item_column].unique())\n",
    "                new_idx = df.index[test_mask & df[item_column].isin(new)]\n",
    "                test_idx = np.setdiff1d(test_idx, new_idx)\n",
    "                test_mask = df.index.isin(test_idx)\n",
    "                if fold_stats:\n",
    "                    fold_info['New items'] = len(new)\n",
    "                    fold_info['New items interactions'] = len(new_idx)\n",
    "\n",
    "            if self.filter_already_seen:\n",
    "                user_item = [user_column, item_column]\n",
    "                train_pairs = df.loc[train_idx, user_item].set_index(user_item).index\n",
    "                test_pairs = df.loc[test_idx, user_item].set_index(user_item).index\n",
    "                intersection = train_pairs.intersection(test_pairs)\n",
    "                test_idx = test_idx[~test_pairs.isin(intersection)]\n",
    "                # test_mask = rd.df.index.isin(test_idx)\n",
    "                if fold_stats:\n",
    "                    fold_info['Known interactions'] = len(intersection)\n",
    "\n",
    "            if fold_stats:\n",
    "                fold_info['Test'] = len(test_idx)\n",
    "\n",
    "            yield (train_idx, test_idx, fold_info)\n",
    "\n",
    "    def get_n_splits(self, df, datetime_column='date'):\n",
    "        df_datetime = df[datetime_column]\n",
    "        if self.train_min_date is not None:\n",
    "            df_datetime = df_datetime[df_datetime >= self.train_min_date]\n",
    "\n",
    "        date_range = self.date_range[(self.date_range >= df_datetime.min()) & \n",
    "                                     (self.date_range <= df_datetime.max())]\n",
    "\n",
    "        return max(0, len(date_range) - 1)"
   ]
  },
  {
   "cell_type": "markdown",
   "metadata": {},
   "source": [
    "### class PopularRecommender()"
   ]
  },
  {
   "cell_type": "code",
   "execution_count": 4,
   "metadata": {
    "jupyter": {
     "source_hidden": true
    }
   },
   "outputs": [],
   "source": [
    "class PopularRecommender():\n",
    "    def __init__(self, max_K=100, days=30, item_column='item_id', dt_column='date'):\n",
    "        self.max_K = max_K\n",
    "        self.days = days\n",
    "        self.item_column = item_column\n",
    "        self.dt_column = dt_column\n",
    "        self.recommendations = []\n",
    "        \n",
    "    def fit(self, df, ):\n",
    "        min_date = df[self.dt_column].max().normalize() - pd.DateOffset(days=self.days)\n",
    "        self.recommendations = df.loc[df[self.dt_column] > min_date, self.item_column].value_counts().head(self.max_K).index.values\n",
    "    \n",
    "    def recommend(self, users=None, N=10):\n",
    "        recs = self.recommendations[:N]\n",
    "        if users is None:\n",
    "            return recs\n",
    "        else:\n",
    "            return list(islice(cycle([recs]), len(users)))"
   ]
  },
  {
   "cell_type": "code",
   "execution_count": 5,
   "metadata": {},
   "outputs": [],
   "source": [
    "data_inter = pd.read_csv('input/interactions_preprocessed.csv')\n",
    "data_users = pd.read_csv('input/users_preprocessed.csv')\n",
    "data_items = pd.read_csv('input/items_preprocessed.csv')\n",
    "data_inter['start_date'] = pd.to_datetime(data_inter['start_date'])"
   ]
  },
  {
   "cell_type": "code",
   "execution_count": 8,
   "metadata": {},
   "outputs": [],
   "source": [
    "big_data = data_inter.merge(data_users) # Соединяем таблицы в одну по столбцу user_id"
   ]
  },
  {
   "cell_type": "code",
   "execution_count": 9,
   "metadata": {},
   "outputs": [],
   "source": [
    "data_test2 = pd.read_csv('sample_submission2.csv')\n",
    "big_data_test = data_test2.merge(data_users)"
   ]
  },
  {
   "cell_type": "markdown",
   "metadata": {},
   "source": [
    "# Тренировка модели "
   ]
  },
  {
   "cell_type": "code",
   "execution_count": 10,
   "metadata": {},
   "outputs": [],
   "source": [
    "def recomend1(age):    \n",
    "    pop_model = PopularRecommender(dt_column='start_date')# days=7,    \n",
    "    top_N = 10\n",
    "    pop_model.fit(big_data[big_data['age'] == age])\n",
    "    recs = pd.DataFrame({'Id': big_data_test['user_id'][big_data['age'] == age].unique()})    \n",
    "    recs['Predict'] = pop_model.recommend(recs['Id'], N=top_N)\n",
    "    return recs"
   ]
  },
  {
   "cell_type": "code",
   "execution_count": 11,
   "metadata": {
    "jupyter": {
     "outputs_hidden": true
    }
   },
   "outputs": [
    {
     "data": {
      "text/html": [
       "<div>\n",
       "<style scoped>\n",
       "    .dataframe tbody tr th:only-of-type {\n",
       "        vertical-align: middle;\n",
       "    }\n",
       "\n",
       "    .dataframe tbody tr th {\n",
       "        vertical-align: top;\n",
       "    }\n",
       "\n",
       "    .dataframe thead th {\n",
       "        text-align: right;\n",
       "    }\n",
       "</style>\n",
       "<table border=\"1\" class=\"dataframe\">\n",
       "  <thead>\n",
       "    <tr style=\"text-align: right;\">\n",
       "      <th></th>\n",
       "      <th>Id</th>\n",
       "      <th>Predict</th>\n",
       "    </tr>\n",
       "  </thead>\n",
       "  <tbody>\n",
       "    <tr>\n",
       "      <th>0</th>\n",
       "      <td>10001</td>\n",
       "      <td>[283713, 184549, 143175, 55466, 168963, 276903...</td>\n",
       "    </tr>\n",
       "    <tr>\n",
       "      <th>1</th>\n",
       "      <td>100152</td>\n",
       "      <td>[283713, 184549, 143175, 55466, 168963, 276903...</td>\n",
       "    </tr>\n",
       "    <tr>\n",
       "      <th>2</th>\n",
       "      <td>100197</td>\n",
       "      <td>[283713, 184549, 143175, 55466, 168963, 276903...</td>\n",
       "    </tr>\n",
       "    <tr>\n",
       "      <th>3</th>\n",
       "      <td>100284</td>\n",
       "      <td>[283713, 184549, 143175, 55466, 168963, 276903...</td>\n",
       "    </tr>\n",
       "    <tr>\n",
       "      <th>4</th>\n",
       "      <td>10031</td>\n",
       "      <td>[283713, 184549, 143175, 55466, 168963, 276903...</td>\n",
       "    </tr>\n",
       "    <tr>\n",
       "      <th>...</th>\n",
       "      <td>...</td>\n",
       "      <td>...</td>\n",
       "    </tr>\n",
       "    <tr>\n",
       "      <th>53</th>\n",
       "      <td>5563</td>\n",
       "      <td>[283713, 184549, 143175, 55466, 160349, 374648...</td>\n",
       "    </tr>\n",
       "    <tr>\n",
       "      <th>54</th>\n",
       "      <td>55783</td>\n",
       "      <td>[283713, 184549, 143175, 55466, 160349, 374648...</td>\n",
       "    </tr>\n",
       "    <tr>\n",
       "      <th>55</th>\n",
       "      <td>55787</td>\n",
       "      <td>[283713, 184549, 143175, 55466, 160349, 374648...</td>\n",
       "    </tr>\n",
       "    <tr>\n",
       "      <th>56</th>\n",
       "      <td>55816</td>\n",
       "      <td>[283713, 184549, 143175, 55466, 160349, 374648...</td>\n",
       "    </tr>\n",
       "    <tr>\n",
       "      <th>57</th>\n",
       "      <td>5585</td>\n",
       "      <td>[283713, 184549, 143175, 55466, 160349, 374648...</td>\n",
       "    </tr>\n",
       "  </tbody>\n",
       "</table>\n",
       "<p>2527 rows × 2 columns</p>\n",
       "</div>"
      ],
      "text/plain": [
       "        Id                                            Predict\n",
       "0    10001  [283713, 184549, 143175, 55466, 168963, 276903...\n",
       "1   100152  [283713, 184549, 143175, 55466, 168963, 276903...\n",
       "2   100197  [283713, 184549, 143175, 55466, 168963, 276903...\n",
       "3   100284  [283713, 184549, 143175, 55466, 168963, 276903...\n",
       "4    10031  [283713, 184549, 143175, 55466, 168963, 276903...\n",
       "..     ...                                                ...\n",
       "53    5563  [283713, 184549, 143175, 55466, 160349, 374648...\n",
       "54   55783  [283713, 184549, 143175, 55466, 160349, 374648...\n",
       "55   55787  [283713, 184549, 143175, 55466, 160349, 374648...\n",
       "56   55816  [283713, 184549, 143175, 55466, 160349, 374648...\n",
       "57    5585  [283713, 184549, 143175, 55466, 160349, 374648...\n",
       "\n",
       "[2527 rows x 2 columns]"
      ]
     },
     "execution_count": 11,
     "metadata": {},
     "output_type": "execute_result"
    }
   ],
   "source": [
    "all_recomend = pd.DataFrame()\n",
    "s = 0\n",
    "for ages in ['55_64', '35_44', '25_34', '45_54', '18_24', '65_inf']: #, big_data['age'][86356]       \n",
    "    new_recs = recomend1(ages)\n",
    "    all_recomend = all_recomend.append(new_recs)\n",
    "all_recomend"
   ]
  },
  {
   "cell_type": "code",
   "execution_count": 12,
   "metadata": {},
   "outputs": [],
   "source": [
    "first_data = list(data_test2['user_id'])\n",
    "for x in list(all_recomend['Id']):\n",
    "    first_data.remove(x)"
   ]
  },
  {
   "cell_type": "code",
   "execution_count": 13,
   "metadata": {},
   "outputs": [
    {
     "data": {
      "text/plain": [
       "((numpy.datetime64('2019-12-25T00:00:00.000000000'),\n",
       "  numpy.datetime64('2019-12-26T00:00:00.000000000')),\n",
       " (1547806, 5),\n",
       " (1783, 5))"
      ]
     },
     "execution_count": 13,
     "metadata": {},
     "output_type": "execute_result"
    }
   ],
   "source": [
    "test_dates = data_inter['start_date'].unique()[-7:]\n",
    "test_dates = list(pairwise(test_dates))\n",
    "split_dates = test_dates[0]\n",
    "train = data_inter[data_inter['start_date'] < split_dates[0]]\n",
    "test = data_inter[(data_inter['start_date'] >= split_dates[0]) & (data_inter['start_date'] < split_dates[1])]\n",
    "test = test[(test['rating'] >= 4) | (test['rating'].isnull())]\n",
    "split_dates, train.shape, test.shape"
   ]
  },
  {
   "cell_type": "code",
   "execution_count": 14,
   "metadata": {},
   "outputs": [],
   "source": [
    "pop_model = PopularRecommender(days=7, dt_column='start_date')\n",
    "pop_model.fit(train)"
   ]
  },
  {
   "cell_type": "code",
   "execution_count": 15,
   "metadata": {
    "jupyter": {
     "outputs_hidden": true
    }
   },
   "outputs": [
    {
     "data": {
      "text/html": [
       "<div>\n",
       "<style scoped>\n",
       "    .dataframe tbody tr th:only-of-type {\n",
       "        vertical-align: middle;\n",
       "    }\n",
       "\n",
       "    .dataframe tbody tr th {\n",
       "        vertical-align: top;\n",
       "    }\n",
       "\n",
       "    .dataframe thead th {\n",
       "        text-align: right;\n",
       "    }\n",
       "</style>\n",
       "<table border=\"1\" class=\"dataframe\">\n",
       "  <thead>\n",
       "    <tr style=\"text-align: right;\">\n",
       "      <th></th>\n",
       "      <th>Id</th>\n",
       "      <th>Predict</th>\n",
       "    </tr>\n",
       "  </thead>\n",
       "  <tbody>\n",
       "    <tr>\n",
       "      <th>0</th>\n",
       "      <td>10001</td>\n",
       "      <td>[283713, 184549, 143175, 55466, 168963, 276903...</td>\n",
       "    </tr>\n",
       "    <tr>\n",
       "      <th>1</th>\n",
       "      <td>100152</td>\n",
       "      <td>[283713, 184549, 143175, 55466, 168963, 276903...</td>\n",
       "    </tr>\n",
       "    <tr>\n",
       "      <th>2</th>\n",
       "      <td>100197</td>\n",
       "      <td>[283713, 184549, 143175, 55466, 168963, 276903...</td>\n",
       "    </tr>\n",
       "    <tr>\n",
       "      <th>3</th>\n",
       "      <td>100284</td>\n",
       "      <td>[283713, 184549, 143175, 55466, 168963, 276903...</td>\n",
       "    </tr>\n",
       "    <tr>\n",
       "      <th>4</th>\n",
       "      <td>10031</td>\n",
       "      <td>[283713, 184549, 143175, 55466, 168963, 276903...</td>\n",
       "    </tr>\n",
       "    <tr>\n",
       "      <th>...</th>\n",
       "      <td>...</td>\n",
       "      <td>...</td>\n",
       "    </tr>\n",
       "    <tr>\n",
       "      <th>542</th>\n",
       "      <td>97203</td>\n",
       "      <td>[283713, 276903, 184549, 168963, 357309, 38528...</td>\n",
       "    </tr>\n",
       "    <tr>\n",
       "      <th>543</th>\n",
       "      <td>97700</td>\n",
       "      <td>[283713, 276903, 184549, 168963, 357309, 38528...</td>\n",
       "    </tr>\n",
       "    <tr>\n",
       "      <th>544</th>\n",
       "      <td>97875</td>\n",
       "      <td>[283713, 276903, 184549, 168963, 357309, 38528...</td>\n",
       "    </tr>\n",
       "    <tr>\n",
       "      <th>545</th>\n",
       "      <td>98659</td>\n",
       "      <td>[283713, 276903, 184549, 168963, 357309, 38528...</td>\n",
       "    </tr>\n",
       "    <tr>\n",
       "      <th>546</th>\n",
       "      <td>9950</td>\n",
       "      <td>[283713, 276903, 184549, 168963, 357309, 38528...</td>\n",
       "    </tr>\n",
       "  </tbody>\n",
       "</table>\n",
       "<p>3074 rows × 2 columns</p>\n",
       "</div>"
      ],
      "text/plain": [
       "         Id                                            Predict\n",
       "0     10001  [283713, 184549, 143175, 55466, 168963, 276903...\n",
       "1    100152  [283713, 184549, 143175, 55466, 168963, 276903...\n",
       "2    100197  [283713, 184549, 143175, 55466, 168963, 276903...\n",
       "3    100284  [283713, 184549, 143175, 55466, 168963, 276903...\n",
       "4     10031  [283713, 184549, 143175, 55466, 168963, 276903...\n",
       "..      ...                                                ...\n",
       "542   97203  [283713, 276903, 184549, 168963, 357309, 38528...\n",
       "543   97700  [283713, 276903, 184549, 168963, 357309, 38528...\n",
       "544   97875  [283713, 276903, 184549, 168963, 357309, 38528...\n",
       "545   98659  [283713, 276903, 184549, 168963, 357309, 38528...\n",
       "546    9950  [283713, 276903, 184549, 168963, 357309, 38528...\n",
       "\n",
       "[3074 rows x 2 columns]"
      ]
     },
     "execution_count": 15,
     "metadata": {},
     "output_type": "execute_result"
    }
   ],
   "source": [
    "new_recs = pd.DataFrame({'Id': first_data})\n",
    "top_N = 10\n",
    "new_recs['Predict'] = pop_model.recommend(new_recs['Id'], N=top_N)\n",
    "all_recomend = all_recomend.append(new_recs)\n",
    "all_recomend"
   ]
  },
  {
   "cell_type": "code",
   "execution_count": 16,
   "metadata": {},
   "outputs": [
    {
     "data": {
      "text/html": [
       "<div>\n",
       "<style scoped>\n",
       "    .dataframe tbody tr th:only-of-type {\n",
       "        vertical-align: middle;\n",
       "    }\n",
       "\n",
       "    .dataframe tbody tr th {\n",
       "        vertical-align: top;\n",
       "    }\n",
       "\n",
       "    .dataframe thead th {\n",
       "        text-align: right;\n",
       "    }\n",
       "</style>\n",
       "<table border=\"1\" class=\"dataframe\">\n",
       "  <thead>\n",
       "    <tr style=\"text-align: right;\">\n",
       "      <th></th>\n",
       "      <th>Id</th>\n",
       "      <th>Predict</th>\n",
       "    </tr>\n",
       "  </thead>\n",
       "  <tbody>\n",
       "    <tr>\n",
       "      <th>0</th>\n",
       "      <td>10001</td>\n",
       "      <td>[283713, 184549, 143175, 55466, 168963, 276903...</td>\n",
       "    </tr>\n",
       "    <tr>\n",
       "      <th>1</th>\n",
       "      <td>10002</td>\n",
       "      <td>[283713, 276903, 184549, 168963, 357309, 38528...</td>\n",
       "    </tr>\n",
       "    <tr>\n",
       "      <th>2</th>\n",
       "      <td>100152</td>\n",
       "      <td>[283713, 184549, 143175, 55466, 168963, 276903...</td>\n",
       "    </tr>\n",
       "    <tr>\n",
       "      <th>3</th>\n",
       "      <td>100197</td>\n",
       "      <td>[283713, 184549, 143175, 55466, 168963, 276903...</td>\n",
       "    </tr>\n",
       "    <tr>\n",
       "      <th>4</th>\n",
       "      <td>100284</td>\n",
       "      <td>[283713, 184549, 143175, 55466, 168963, 276903...</td>\n",
       "    </tr>\n",
       "    <tr>\n",
       "      <th>...</th>\n",
       "      <td>...</td>\n",
       "      <td>...</td>\n",
       "    </tr>\n",
       "    <tr>\n",
       "      <th>3069</th>\n",
       "      <td>99734</td>\n",
       "      <td>[80003, 357309, 385281, 184549, 56877, 276903,...</td>\n",
       "    </tr>\n",
       "    <tr>\n",
       "      <th>3070</th>\n",
       "      <td>99757</td>\n",
       "      <td>[80003, 357309, 385281, 184549, 56877, 276903,...</td>\n",
       "    </tr>\n",
       "    <tr>\n",
       "      <th>3071</th>\n",
       "      <td>99772</td>\n",
       "      <td>[80003, 357309, 385281, 184549, 56877, 276903,...</td>\n",
       "    </tr>\n",
       "    <tr>\n",
       "      <th>3072</th>\n",
       "      <td>99827</td>\n",
       "      <td>[80003, 283713, 184549, 385281, 287060, 276903...</td>\n",
       "    </tr>\n",
       "    <tr>\n",
       "      <th>3073</th>\n",
       "      <td>99881</td>\n",
       "      <td>[80003, 283713, 184549, 385281, 287060, 276903...</td>\n",
       "    </tr>\n",
       "  </tbody>\n",
       "</table>\n",
       "<p>3074 rows × 2 columns</p>\n",
       "</div>"
      ],
      "text/plain": [
       "          Id                                            Predict\n",
       "0      10001  [283713, 184549, 143175, 55466, 168963, 276903...\n",
       "1      10002  [283713, 276903, 184549, 168963, 357309, 38528...\n",
       "2     100152  [283713, 184549, 143175, 55466, 168963, 276903...\n",
       "3     100197  [283713, 184549, 143175, 55466, 168963, 276903...\n",
       "4     100284  [283713, 184549, 143175, 55466, 168963, 276903...\n",
       "...      ...                                                ...\n",
       "3069   99734  [80003, 357309, 385281, 184549, 56877, 276903,...\n",
       "3070   99757  [80003, 357309, 385281, 184549, 56877, 276903,...\n",
       "3071   99772  [80003, 357309, 385281, 184549, 56877, 276903,...\n",
       "3072   99827  [80003, 283713, 184549, 385281, 287060, 276903...\n",
       "3073   99881  [80003, 283713, 184549, 385281, 287060, 276903...\n",
       "\n",
       "[3074 rows x 2 columns]"
      ]
     },
     "execution_count": 16,
     "metadata": {},
     "output_type": "execute_result"
    }
   ],
   "source": [
    "data_test3 = pd.DataFrame({'Id': data_test2['user_id']})\n",
    "last_recs = data_test3.merge(all_recomend)\n",
    "last_recs"
   ]
  },
  {
   "cell_type": "markdown",
   "metadata": {},
   "source": [
    "## Sex 1.0"
   ]
  },
  {
   "cell_type": "code",
   "execution_count": 17,
   "metadata": {},
   "outputs": [],
   "source": [
    "pop_model_sex1 = PopularRecommender( dt_column='start_date')# days=7,\n",
    "pop_model_sex1.fit(big_data[big_data['sex'] == 1.0])"
   ]
  },
  {
   "cell_type": "code",
   "execution_count": 18,
   "metadata": {},
   "outputs": [
    {
     "data": {
      "text/plain": [
       "array([283713, 184549, 276903, 357309,  55466, 385281, 143175, 352049,\n",
       "       168963, 112869], dtype=int64)"
      ]
     },
     "execution_count": 18,
     "metadata": {},
     "output_type": "execute_result"
    }
   ],
   "source": [
    "top10_recs_sex1 = pop_model_sex1.recommend()\n",
    "top10_recs_sex1"
   ]
  },
  {
   "cell_type": "code",
   "execution_count": 19,
   "metadata": {
    "jupyter": {
     "outputs_hidden": true
    }
   },
   "outputs": [
    {
     "data": {
      "text/html": [
       "<div>\n",
       "<style scoped>\n",
       "    .dataframe tbody tr th:only-of-type {\n",
       "        vertical-align: middle;\n",
       "    }\n",
       "\n",
       "    .dataframe tbody tr th {\n",
       "        vertical-align: top;\n",
       "    }\n",
       "\n",
       "    .dataframe thead th {\n",
       "        text-align: right;\n",
       "    }\n",
       "</style>\n",
       "<table border=\"1\" class=\"dataframe\">\n",
       "  <thead>\n",
       "    <tr style=\"text-align: right;\">\n",
       "      <th></th>\n",
       "      <th>Id</th>\n",
       "      <th>Predict</th>\n",
       "    </tr>\n",
       "  </thead>\n",
       "  <tbody>\n",
       "    <tr>\n",
       "      <th>0</th>\n",
       "      <td>100197</td>\n",
       "      <td>[283713, 184549, 276903, 357309, 55466, 385281...</td>\n",
       "    </tr>\n",
       "    <tr>\n",
       "      <th>1</th>\n",
       "      <td>100284</td>\n",
       "      <td>[283713, 184549, 276903, 357309, 55466, 385281...</td>\n",
       "    </tr>\n",
       "    <tr>\n",
       "      <th>2</th>\n",
       "      <td>10031</td>\n",
       "      <td>[283713, 184549, 276903, 357309, 55466, 385281...</td>\n",
       "    </tr>\n",
       "    <tr>\n",
       "      <th>3</th>\n",
       "      <td>100412</td>\n",
       "      <td>[283713, 184549, 276903, 357309, 55466, 385281...</td>\n",
       "    </tr>\n",
       "    <tr>\n",
       "      <th>4</th>\n",
       "      <td>100562</td>\n",
       "      <td>[283713, 184549, 276903, 357309, 55466, 385281...</td>\n",
       "    </tr>\n",
       "    <tr>\n",
       "      <th>...</th>\n",
       "      <td>...</td>\n",
       "      <td>...</td>\n",
       "    </tr>\n",
       "    <tr>\n",
       "      <th>643</th>\n",
       "      <td>98220</td>\n",
       "      <td>[283713, 184549, 276903, 357309, 55466, 385281...</td>\n",
       "    </tr>\n",
       "    <tr>\n",
       "      <th>644</th>\n",
       "      <td>98593</td>\n",
       "      <td>[283713, 184549, 276903, 357309, 55466, 385281...</td>\n",
       "    </tr>\n",
       "    <tr>\n",
       "      <th>645</th>\n",
       "      <td>98891</td>\n",
       "      <td>[283713, 184549, 276903, 357309, 55466, 385281...</td>\n",
       "    </tr>\n",
       "    <tr>\n",
       "      <th>646</th>\n",
       "      <td>98906</td>\n",
       "      <td>[283713, 184549, 276903, 357309, 55466, 385281...</td>\n",
       "    </tr>\n",
       "    <tr>\n",
       "      <th>647</th>\n",
       "      <td>99253</td>\n",
       "      <td>[283713, 184549, 276903, 357309, 55466, 385281...</td>\n",
       "    </tr>\n",
       "  </tbody>\n",
       "</table>\n",
       "<p>648 rows × 2 columns</p>\n",
       "</div>"
      ],
      "text/plain": [
       "         Id                                            Predict\n",
       "0    100197  [283713, 184549, 276903, 357309, 55466, 385281...\n",
       "1    100284  [283713, 184549, 276903, 357309, 55466, 385281...\n",
       "2     10031  [283713, 184549, 276903, 357309, 55466, 385281...\n",
       "3    100412  [283713, 184549, 276903, 357309, 55466, 385281...\n",
       "4    100562  [283713, 184549, 276903, 357309, 55466, 385281...\n",
       "..      ...                                                ...\n",
       "643   98220  [283713, 184549, 276903, 357309, 55466, 385281...\n",
       "644   98593  [283713, 184549, 276903, 357309, 55466, 385281...\n",
       "645   98891  [283713, 184549, 276903, 357309, 55466, 385281...\n",
       "646   98906  [283713, 184549, 276903, 357309, 55466, 385281...\n",
       "647   99253  [283713, 184549, 276903, 357309, 55466, 385281...\n",
       "\n",
       "[648 rows x 2 columns]"
      ]
     },
     "execution_count": 19,
     "metadata": {},
     "output_type": "execute_result"
    }
   ],
   "source": [
    "recs = pd.DataFrame({'Id': big_data_test['user_id'][big_data_test['sex'] == 1.0].unique()})\n",
    "top_N = 10\n",
    "recs['Predict'] = pop_model_sex1.recommend(recs['Id'], N=top_N)\n",
    "recs"
   ]
  },
  {
   "cell_type": "markdown",
   "metadata": {},
   "source": [
    "## Sex 0.0"
   ]
  },
  {
   "cell_type": "code",
   "execution_count": 20,
   "metadata": {},
   "outputs": [],
   "source": [
    "pop_model_sex2 = PopularRecommender(days=7, dt_column='start_date')\n",
    "pop_model_sex2.fit(big_data[big_data['sex'] == 0.0])"
   ]
  },
  {
   "cell_type": "code",
   "execution_count": 21,
   "metadata": {},
   "outputs": [
    {
     "data": {
      "text/plain": [
       "array([283713,  89130, 184549, 344047, 276903, 168963,  80003, 143175,\n",
       "        56877, 385281], dtype=int64)"
      ]
     },
     "execution_count": 21,
     "metadata": {},
     "output_type": "execute_result"
    }
   ],
   "source": [
    "top10_recs_sex2 = pop_model_sex2.recommend()\n",
    "top10_recs_sex2"
   ]
  },
  {
   "cell_type": "code",
   "execution_count": 23,
   "metadata": {},
   "outputs": [
    {
     "data": {
      "text/html": [
       "<div>\n",
       "<style scoped>\n",
       "    .dataframe tbody tr th:only-of-type {\n",
       "        vertical-align: middle;\n",
       "    }\n",
       "\n",
       "    .dataframe tbody tr th {\n",
       "        vertical-align: top;\n",
       "    }\n",
       "\n",
       "    .dataframe thead th {\n",
       "        text-align: right;\n",
       "    }\n",
       "</style>\n",
       "<table border=\"1\" class=\"dataframe\">\n",
       "  <thead>\n",
       "    <tr style=\"text-align: right;\">\n",
       "      <th></th>\n",
       "      <th>Id</th>\n",
       "      <th>Predict</th>\n",
       "    </tr>\n",
       "  </thead>\n",
       "  <tbody>\n",
       "    <tr>\n",
       "      <th>0</th>\n",
       "      <td>10001</td>\n",
       "      <td>[283713, 89130, 184549, 344047, 276903, 168963...</td>\n",
       "    </tr>\n",
       "    <tr>\n",
       "      <th>1</th>\n",
       "      <td>100152</td>\n",
       "      <td>[283713, 89130, 184549, 344047, 276903, 168963...</td>\n",
       "    </tr>\n",
       "    <tr>\n",
       "      <th>2</th>\n",
       "      <td>100428</td>\n",
       "      <td>[283713, 89130, 184549, 344047, 276903, 168963...</td>\n",
       "    </tr>\n",
       "    <tr>\n",
       "      <th>3</th>\n",
       "      <td>100450</td>\n",
       "      <td>[283713, 89130, 184549, 344047, 276903, 168963...</td>\n",
       "    </tr>\n",
       "    <tr>\n",
       "      <th>4</th>\n",
       "      <td>100735</td>\n",
       "      <td>[283713, 89130, 184549, 344047, 276903, 168963...</td>\n",
       "    </tr>\n",
       "  </tbody>\n",
       "</table>\n",
       "</div>"
      ],
      "text/plain": [
       "       Id                                            Predict\n",
       "0   10001  [283713, 89130, 184549, 344047, 276903, 168963...\n",
       "1  100152  [283713, 89130, 184549, 344047, 276903, 168963...\n",
       "2  100428  [283713, 89130, 184549, 344047, 276903, 168963...\n",
       "3  100450  [283713, 89130, 184549, 344047, 276903, 168963...\n",
       "4  100735  [283713, 89130, 184549, 344047, 276903, 168963..."
      ]
     },
     "execution_count": 23,
     "metadata": {},
     "output_type": "execute_result"
    }
   ],
   "source": [
    "recs2 = pd.DataFrame({'Id': big_data_test['user_id'][big_data_test['sex'] == 0.0].unique()})\n",
    "top_N = 10\n",
    "recs2['Predict'] = pop_model_sex2.recommend(recs2['Id'], N=top_N)\n",
    "recs2.head()"
   ]
  },
  {
   "cell_type": "markdown",
   "metadata": {},
   "source": [
    "## Sex = NaN"
   ]
  },
  {
   "cell_type": "code",
   "execution_count": 24,
   "metadata": {
    "jupyter": {
     "outputs_hidden": true
    }
   },
   "outputs": [],
   "source": [
    "first_data = list(data_test2['user_id'])\n",
    "for x in list(recs.append(recs2)['Id']):\n",
    "    first_data.remove(x)"
   ]
  },
  {
   "cell_type": "markdown",
   "metadata": {},
   "source": [
    "## Валидация"
   ]
  },
  {
   "cell_type": "code",
   "execution_count": 25,
   "metadata": {},
   "outputs": [
    {
     "data": {
      "text/plain": [
       "((numpy.datetime64('2019-12-25T00:00:00.000000000'),\n",
       "  numpy.datetime64('2019-12-26T00:00:00.000000000')),\n",
       " (1547806, 5),\n",
       " (1783, 5))"
      ]
     },
     "execution_count": 25,
     "metadata": {},
     "output_type": "execute_result"
    }
   ],
   "source": [
    "test_dates = data_inter['start_date'].unique()[-7:]\n",
    "test_dates = list(pairwise(test_dates))\n",
    "split_dates = test_dates[0]\n",
    "train = data_inter[data_inter['start_date'] < split_dates[0]]\n",
    "test = data_inter[(data_inter['start_date'] >= split_dates[0]) & (data_inter['start_date'] < split_dates[1])]\n",
    "test = test[(test['rating'] >= 4) | (test['rating'].isnull())]\n",
    "split_dates, train.shape, test.shape"
   ]
  },
  {
   "cell_type": "code",
   "execution_count": 26,
   "metadata": {},
   "outputs": [],
   "source": [
    "pop_model = PopularRecommender(days=7, dt_column='start_date')\n",
    "pop_model.fit(train)"
   ]
  },
  {
   "cell_type": "code",
   "execution_count": 27,
   "metadata": {},
   "outputs": [
    {
     "data": {
      "text/plain": [
       "array([283713, 276903, 184549, 168963, 357309, 385281,  50718, 112869,\n",
       "       242176,  93751], dtype=int64)"
      ]
     },
     "execution_count": 27,
     "metadata": {},
     "output_type": "execute_result"
    }
   ],
   "source": [
    "top10_recs = pop_model.recommend()\n",
    "top10_recs\n",
    "#283713, 276903, 184549, 168963, 357309, 385281,  50718, 112869,242176,  93751] на train\n",
    "#[283713, 276903, 184549, 168963,  55466, 385281, 357309, 352049,143175, 267817] на всей"
   ]
  },
  {
   "cell_type": "code",
   "execution_count": 28,
   "metadata": {},
   "outputs": [
    {
     "data": {
      "text/html": [
       "<div>\n",
       "<style scoped>\n",
       "    .dataframe tbody tr th:only-of-type {\n",
       "        vertical-align: middle;\n",
       "    }\n",
       "\n",
       "    .dataframe tbody tr th {\n",
       "        vertical-align: top;\n",
       "    }\n",
       "\n",
       "    .dataframe thead th {\n",
       "        text-align: right;\n",
       "    }\n",
       "</style>\n",
       "<table border=\"1\" class=\"dataframe\">\n",
       "  <thead>\n",
       "    <tr style=\"text-align: right;\">\n",
       "      <th></th>\n",
       "      <th>Id</th>\n",
       "      <th>Predict</th>\n",
       "    </tr>\n",
       "  </thead>\n",
       "  <tbody>\n",
       "    <tr>\n",
       "      <th>0</th>\n",
       "      <td>10002</td>\n",
       "      <td>[283713, 276903, 184549, 168963, 357309, 38528...</td>\n",
       "    </tr>\n",
       "    <tr>\n",
       "      <th>1</th>\n",
       "      <td>100959</td>\n",
       "      <td>[283713, 276903, 184549, 168963, 357309, 38528...</td>\n",
       "    </tr>\n",
       "    <tr>\n",
       "      <th>2</th>\n",
       "      <td>101968</td>\n",
       "      <td>[283713, 276903, 184549, 168963, 357309, 38528...</td>\n",
       "    </tr>\n",
       "    <tr>\n",
       "      <th>3</th>\n",
       "      <td>10197</td>\n",
       "      <td>[283713, 276903, 184549, 168963, 357309, 38528...</td>\n",
       "    </tr>\n",
       "    <tr>\n",
       "      <th>4</th>\n",
       "      <td>102088</td>\n",
       "      <td>[283713, 276903, 184549, 168963, 357309, 38528...</td>\n",
       "    </tr>\n",
       "  </tbody>\n",
       "</table>\n",
       "</div>"
      ],
      "text/plain": [
       "       Id                                            Predict\n",
       "0   10002  [283713, 276903, 184549, 168963, 357309, 38528...\n",
       "1  100959  [283713, 276903, 184549, 168963, 357309, 38528...\n",
       "2  101968  [283713, 276903, 184549, 168963, 357309, 38528...\n",
       "3   10197  [283713, 276903, 184549, 168963, 357309, 38528...\n",
       "4  102088  [283713, 276903, 184549, 168963, 357309, 38528..."
      ]
     },
     "execution_count": 28,
     "metadata": {},
     "output_type": "execute_result"
    }
   ],
   "source": [
    "recs3 = pd.DataFrame({'Id': first_data})\n",
    "top_N = 10\n",
    "recs3['Predict'] = pop_model.recommend(recs3['Id'], N=top_N)\n",
    "recs3.head()"
   ]
  },
  {
   "cell_type": "code",
   "execution_count": 29,
   "metadata": {},
   "outputs": [
    {
     "data": {
      "text/html": [
       "<div>\n",
       "<style scoped>\n",
       "    .dataframe tbody tr th:only-of-type {\n",
       "        vertical-align: middle;\n",
       "    }\n",
       "\n",
       "    .dataframe tbody tr th {\n",
       "        vertical-align: top;\n",
       "    }\n",
       "\n",
       "    .dataframe thead th {\n",
       "        text-align: right;\n",
       "    }\n",
       "</style>\n",
       "<table border=\"1\" class=\"dataframe\">\n",
       "  <thead>\n",
       "    <tr style=\"text-align: right;\">\n",
       "      <th></th>\n",
       "      <th>Id</th>\n",
       "    </tr>\n",
       "  </thead>\n",
       "  <tbody>\n",
       "    <tr>\n",
       "      <th>0</th>\n",
       "      <td>10001</td>\n",
       "    </tr>\n",
       "    <tr>\n",
       "      <th>1</th>\n",
       "      <td>10002</td>\n",
       "    </tr>\n",
       "    <tr>\n",
       "      <th>2</th>\n",
       "      <td>100152</td>\n",
       "    </tr>\n",
       "    <tr>\n",
       "      <th>3</th>\n",
       "      <td>100197</td>\n",
       "    </tr>\n",
       "    <tr>\n",
       "      <th>4</th>\n",
       "      <td>100284</td>\n",
       "    </tr>\n",
       "  </tbody>\n",
       "</table>\n",
       "</div>"
      ],
      "text/plain": [
       "       Id\n",
       "0   10001\n",
       "1   10002\n",
       "2  100152\n",
       "3  100197\n",
       "4  100284"
      ]
     },
     "execution_count": 29,
     "metadata": {},
     "output_type": "execute_result"
    }
   ],
   "source": [
    "data_test3 = pd.DataFrame({'Id': data_test2['user_id']})\n",
    "data_test3.head()"
   ]
  },
  {
   "cell_type": "markdown",
   "metadata": {},
   "source": [
    "# Соединяем всё в одну таблицу"
   ]
  },
  {
   "cell_type": "code",
   "execution_count": 30,
   "metadata": {},
   "outputs": [
    {
     "data": {
      "text/html": [
       "<div>\n",
       "<style scoped>\n",
       "    .dataframe tbody tr th:only-of-type {\n",
       "        vertical-align: middle;\n",
       "    }\n",
       "\n",
       "    .dataframe tbody tr th {\n",
       "        vertical-align: top;\n",
       "    }\n",
       "\n",
       "    .dataframe thead th {\n",
       "        text-align: right;\n",
       "    }\n",
       "</style>\n",
       "<table border=\"1\" class=\"dataframe\">\n",
       "  <thead>\n",
       "    <tr style=\"text-align: right;\">\n",
       "      <th></th>\n",
       "      <th>Id</th>\n",
       "      <th>Predict</th>\n",
       "    </tr>\n",
       "  </thead>\n",
       "  <tbody>\n",
       "    <tr>\n",
       "      <th>0</th>\n",
       "      <td>10001</td>\n",
       "      <td>[283713, 89130, 184549, 344047, 276903, 168963...</td>\n",
       "    </tr>\n",
       "    <tr>\n",
       "      <th>1</th>\n",
       "      <td>10002</td>\n",
       "      <td>[283713, 276903, 184549, 168963, 357309, 38528...</td>\n",
       "    </tr>\n",
       "    <tr>\n",
       "      <th>2</th>\n",
       "      <td>100152</td>\n",
       "      <td>[283713, 89130, 184549, 344047, 276903, 168963...</td>\n",
       "    </tr>\n",
       "    <tr>\n",
       "      <th>3</th>\n",
       "      <td>100197</td>\n",
       "      <td>[283713, 184549, 276903, 357309, 55466, 385281...</td>\n",
       "    </tr>\n",
       "    <tr>\n",
       "      <th>4</th>\n",
       "      <td>100284</td>\n",
       "      <td>[283713, 184549, 276903, 357309, 55466, 385281...</td>\n",
       "    </tr>\n",
       "  </tbody>\n",
       "</table>\n",
       "</div>"
      ],
      "text/plain": [
       "       Id                                            Predict\n",
       "0   10001  [283713, 89130, 184549, 344047, 276903, 168963...\n",
       "1   10002  [283713, 276903, 184549, 168963, 357309, 38528...\n",
       "2  100152  [283713, 89130, 184549, 344047, 276903, 168963...\n",
       "3  100197  [283713, 184549, 276903, 357309, 55466, 385281...\n",
       "4  100284  [283713, 184549, 276903, 357309, 55466, 385281..."
      ]
     },
     "execution_count": 30,
     "metadata": {},
     "output_type": "execute_result"
    }
   ],
   "source": [
    "last_recs = data_test3.merge(recs.append(recs2.append(recs3)))\n",
    "last_recs.head()"
   ]
  },
  {
   "cell_type": "code",
   "execution_count": 111,
   "metadata": {},
   "outputs": [],
   "source": [
    "last_recs.to_csv('baseline4.csv', index=False)"
   ]
  }
 ],
 "metadata": {
  "kernelspec": {
   "display_name": "Python 3",
   "language": "python",
   "name": "python3"
  },
  "language_info": {
   "codemirror_mode": {
    "name": "ipython",
    "version": 3
   },
   "file_extension": ".py",
   "mimetype": "text/x-python",
   "name": "python",
   "nbconvert_exporter": "python",
   "pygments_lexer": "ipython3",
   "version": "3.8.3"
  }
 },
 "nbformat": 4,
 "nbformat_minor": 4
}
